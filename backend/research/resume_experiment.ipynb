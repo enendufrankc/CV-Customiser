{
 "cells": [
  {
   "cell_type": "code",
   "execution_count": 1,
   "metadata": {},
   "outputs": [],
   "source": [
    "import os"
   ]
  },
  {
   "cell_type": "code",
   "execution_count": 2,
   "metadata": {},
   "outputs": [
    {
     "data": {
      "text/plain": [
       "'c:\\\\Users\\\\LENOVO\\\\1. Projects\\\\CV Customiser\\\\research'"
      ]
     },
     "execution_count": 2,
     "metadata": {},
     "output_type": "execute_result"
    }
   ],
   "source": [
    "%pwd"
   ]
  },
  {
   "cell_type": "code",
   "execution_count": 3,
   "metadata": {},
   "outputs": [],
   "source": [
    "os.chdir(\"../\")"
   ]
  },
  {
   "cell_type": "code",
   "execution_count": 4,
   "metadata": {},
   "outputs": [
    {
     "data": {
      "text/plain": [
       "'c:\\\\Users\\\\LENOVO\\\\1. Projects\\\\CV Customiser'"
      ]
     },
     "execution_count": 4,
     "metadata": {},
     "output_type": "execute_result"
    }
   ],
   "source": [
    "%pwd"
   ]
  },
  {
   "cell_type": "code",
   "execution_count": null,
   "metadata": {},
   "outputs": [],
   "source": []
  },
  {
   "cell_type": "code",
   "execution_count": 5,
   "metadata": {},
   "outputs": [
    {
     "name": "stderr",
     "output_type": "stream",
     "text": [
      "c:\\Users\\LENOVO\\1. Projects\\CV Customiser\\.venv\\Lib\\site-packages\\tqdm\\auto.py:21: TqdmWarning: IProgress not found. Please update jupyter and ipywidgets. See https://ipywidgets.readthedocs.io/en/stable/user_install.html\n",
      "  from .autonotebook import tqdm as notebook_tqdm\n"
     ]
    }
   ],
   "source": [
    "from src.tool.tool import customiser_content "
   ]
  },
  {
   "cell_type": "code",
   "execution_count": 6,
   "metadata": {},
   "outputs": [
    {
     "name": "stdout",
     "output_type": "stream",
     "text": [
      "Backend Software Engineer at Vori | Y Combinator About What Happens at YC? Apply YC Interview Guide FAQ People YC Blog Companies Startup Directory Founder Directory Launch YC Startup Jobs All Jobs ◦ Engineering ◦ Operations ◦ Marketing ◦ Sales Startup Job Guide YC Startup Jobs Blog Find a Co-Founder Library SAFE Resources Startup School Newsletter For Investors Hacker News Bookface Open main menu Apply for X2025 batch. Apply Vori Vori is a modern operating system for supermarkets Backend Software Engineer $140K - $200K Location San Francisco, CA, US Job Type Full-time Experience 6+ years Apply to Vori and hundreds of other fast-growing YC startups with a single profile. Apply to role › About the role tldr; Work with all star team developing the #1 AI-powered Point of Sale for retail on earth We're looking for a passionate, results oriented backend software engineer who's excited to bring an entire industry online for the first time. You will be joining a team of world class engineers to help tackle some of the most challenging and impactful problems that are transforming how people buy groceries every day. If you're a world class software engineer who loves food and fighting to empower small and medium sized businesses in old school industries, join us! Qualifications: Expert developing back end services (Rest, Typescript, Nodejs, AGgrid) Expert developing and maintaining production web services and data systems (we use Kubernetes and GCP) Expert working with SQL databases (Postgres) Experience with orchestration, data pipelines and data warehousing (Temporal, Big Query, DBT) Strong communication and interpersonal skills Bonus: Experience working in hyper-growth startup environment How to apply: If you'd like to be considered, please reach out to us with a summary of your work and why you're excited to join Vori. About Vori We are changing the way the $800B American grocery supply chain does business. Vori Founded: 2019 Team Size: 29 Status: Active Location: East Palo Alto, CA   Founders Brandon Hill Founder   Tre Kirkman Founder   Robert Pinkerton Founder   Similar Jobs SID Founding engineer: AI and retrieval Biodock Machine Learning & Python Backend Engineer MixRank Self-taught & hobbyists - Junior Software Engineers (Potugal/Remote) Sameday Senior Front-end Engineer Credal.ai Founding Software Engineer, Infrastructure Rivia.AI Backend Engineer - Python Sei Senior Software Engineer (Typescript, Gen AI) Cercli Senior Backend Engineer OWNY Senior Engineer / Engineering manager Vooma Platform and Integrations Engineer Shaped Senior Data Engineer Fathom Backend Engineer (Remote) Fam Backend Software Engineer for Top Social App Fam (Series A) NimbleRx Senior Backend Engineer SciPhi Founding Engineer at SciPhi Promise Senior Backend Software Engineer Tempo Sr Computer Vision Engineer Crustdata Senior Software Engineer Fern Backend Engineer Stripe Head of Engineering, Identity Graph Footer Y Combinator Programs YC Program Startup School Work at a Startup Co-Founder Matching Company YC Blog Contact Press People Careers Privacy Policy Notice at Collection Security Terms of Use Resources Startup Directory Startup Library Investors SAFE Hacker News Launch YC YC Deals Make something people want. Apply Twitter Twitter Facebook Facebook Instagram Instagram LinkedIn LinkedIn Youtube YouTube © 2025 Y Combinator\n",
      "## FRANK ENENDU - AI &amp; ML ENGINEER\n",
      "\n",
      "Email |+447469499104| Github | Linkedin | Portfolio Website |Medium\n",
      "\n",
      "## SUMMARY\n",
      "\n",
      "I  am  very  passionate  about  using  technologies  to solve real-world problems, and I believe I can bring a lot of value to any team.  With  my  background  in  AI,  data  science,  machine  learning,  and  data  engineering,  I  have  the  practical  skills  and experience to be a good fit. I love learning new technologies and am a very fast learner, which has enabled me to dive into many data engineering, machine learning, and AI technologies. This is truly what I love. I also enjoy working in a team and sharing my knowledge. Additionally, I am not afraid to tackle tough challenges. I look forward to the opportunity to bring my skills and enthusiasm to your organization.\n",
      "\n",
      "## TECHNICAL SKILLS\n",
      "\n",
      "- ★ AI  Engineering: Agentic  Workflow,  RAG,  Base  Model  Fine  Tuning ,  LangChain  Ecosystem,  AutoGen,  HuggingFace, Streamlit, GPT Engineer, CrewAI |\n",
      "- ★ Programing Languages: Python, React, R, SQL |\n",
      "- ★ Machine Learning: Model Training and Deployment, Traditional ML Algorithms, Deep Learning ( TensorFlow, PyTorch, Scikit-learn, Keras) , Natural Language Processing ( NLTK, spaCy LLMs etc), Computer Vision ( OpenCV ) |\n",
      "- ★ MLOps: Pipeline  building , Orchestration  ( Docker ),  CI/CD  ( Git-Action ),  Model  Versioning  and  monitoring  ( MLFlow, Airflo, Kubeflow ) |\n",
      "- ★ Large Language Model (LLM):| OpenAI, Llama, HuggingFace Transformers\n",
      "- ★ Software Engineering: Programing with python ,  APIs,  OOP ,  Software  Design Patterns, Data Structure &amp; Algorithm, Unittest, Git , Logging &amp; Debugging, Code Documentation, Dependency Management ( Conda, Pip ) |\n",
      "- ★ Data Engineering: MySQL, Postgres, Docker |\n",
      "- ★ Product Development: Agile PM, Software Architecture Design |\n",
      "- ★ Cloud Services: Azure (Machine Learning , Synapse Analytics, Cognitive Services, AI Services, OpenAI, Fabrics), GCP -(BigQuerry, Vertex AI ), AWS (Sage Maker, AWS Glue) |\n",
      "- ★ BI Engineering: Power BI, Tableau, Dax, Power Query\n",
      "\n",
      "## EXPERIENCE\n",
      "\n",
      "## BCN Group, Manchester Office - AI/ML Engineer\n",
      "\n",
      "## 08/2023 - Till Date\n",
      "\n",
      "- ● NHS Performance Report Chatbot: Built  a  chat app that interacts with PublicView database (a NHS Benchmarking tool) and uses LLM to generate PDF reports.\n",
      "- ● Customised  Knowledge  Base  Chat  App: Single-handedly  developed  a  chat  app  using  Azure  Open  AI,  enabling efficient user interaction with internal knowledge bases.\n",
      "- ● Anomaly Detection Implementation: Built and deployed an LSTM Autoencoder-based anomaly detection tool with Azure Synapse Analytics and Power BI, enhancing client data analysis.\n",
      "- ● Email Classification System Using Azure Language Understanding API: Fine-tuned Microsoft CLU model for client's email system, improving classification efficiency through Azure Language Understanding API integration.\n",
      "\n",
      "## HubPay, London Office - Junior Data Scientist\n",
      "\n",
      "## 12/2021 - 01/2023\n",
      "\n",
      "- ● Customer  Sentiment  Analysis  : Utilized  NLTK  for  sentiment  analysis  on  real-time  customer  support  tickets  from Zendesk, creating a sentiment evaluation system to assess support team interactions\n",
      "- ● Targeted  Market  Optimisation: Developed  a  Python  script  to  segment  163,000+  customers  by  nationality  and generate KYC reports, optimizing market targeting\n",
      "- ● FX  Analysis: Performed  competitive  analysis  of  FOREX  brokers'  FX  spreads  using  machine  learning;  developed predictive models aiding the internal team in FX rate setting.\n",
      "- ● Real Time  Metrics  Monitoring: Created  a  real-time  dashboard  with  R-Shiny  for  daily  performance  metrics monitoring, enhancing operational efficiency.\n",
      "\n",
      "## Enterprise Development Centre, Lagos Nigeria - Data &amp; Research Scientist\n",
      "\n",
      "04/2021 - 09/2022\n",
      "\n",
      "- ● Power BI Development &amp; Data Visualization: Spearheaded the design and development of dashboards using Power BI, providing key actionable insights to business stakeholders.\n",
      "- ● Business  Intelligence  &amp;  System  Optimization: Played  a  critical  role  in  enhancing  BI  systems  by  executing  query optimization, scaling, and performance enhancement strategies, resulting in a 25% reduction in system downtime.\n",
      "- ● Technical  Support  &amp;  User  Training: Provided  technical  support  and  training  to  new  BI  system  users,  significantly improving user experience by 30%.\n",
      "\n",
      "## Sunnet Systems  Ltd, Lagos Nigeria  - Business Analyst Associate\n",
      "\n",
      "05/2020 - 03/2021\n",
      "\n",
      "- ● Business Analytics &amp; Vendor Management: Fostered key vendor relationships for a high-value project, representing 35%  of  the  company's  annual  revenue.  Utilized  business  analytics  and  data  insights  to  inform  decision-making processes.\n",
      "- ● Data-Driven Reporting &amp; CRM Implementation: Led the development and implementation of data-driven reporting and customer relationship  management (CRM) systems. This strategic use of  data  significantly  contributed to the company's success.\n",
      "\n",
      "## Wakanow Ltd, Lagos Nigeria - Business Intelligence &amp; Product Intern 04/2019 - 04/2020\n",
      "\n",
      "- ● Data  Analysis  &amp;  Dashboard  Development: Developed interactive  dashboards,  utilizing  Power  BI  and  Tableau,  to analyze  data  across  various  departments.  This  data-driven  approach  resulted  in  a  25%  reduction  in  employee turnover and a 20% increase in customer satisfaction.\n",
      "\n",
      "## PERSONAL PROJECTS\n",
      "\n",
      "I am  passionate  about  building  personal  projects  for  fun,  especially  to  explore  new  technologies  as  well  as contributing to open-source initiatives. Visit my Github or my personal portfolio website to see numerous projects I have built over the years. I also maintain a medium page where I delve into the details of each project. In the future, I plan to create video recordings that showcase the implementation process of these projects\n",
      "\n",
      "## SOFT  SKILLS\n",
      "\n",
      "- ● Communication : Skilled at explaining complex concepts to diverse audiences.\n",
      "- ● Problem-solving: Creative and analytical thinker, able to devise innovative solutions.\n",
      "- ● Teamwork : Reliable team player, adept at collaboration and conflict resolution.\n",
      "- ● Organisational Skills : Excellent at managing tasks, prioritizing effectively, and meeting deadlines.\n",
      "\n",
      "## EDUCATION\n",
      "\n",
      "- ● University of Liverpool, UK MSc, Data Science and Artificial Intelligence 09/2022 - 09/2023 Modules: Applied Artificial Intelligence, Maths and Statistics for AI and Data Science, Computational Intelligence, Data Mining and Visualisation,  Machine Learning and BioInspired Optimisation, Programming Fundamentals, Database and Information Systems.\n",
      "- ● Federal University of Technology Owerri, Nigeria - BTech, Logistics Management 09/2013 - 08/2018 Modules: Ordinary Differential Equation, Applied Statistics, Mathematical Methods, Operations Research\n"
     ]
    }
   ],
   "source": [
    "source = r\"data/test.pdf\"\n",
    "URL = \"https://www.ycombinator.com/companies/vori/jobs/UmTQpfK-backend-software-engineer\"\n",
    "\n",
    "job_description, resume_content = customiser_content(source, URL)\n",
    "print(job_description)\n",
    "print(resume_content)"
   ]
  },
  {
   "cell_type": "code",
   "execution_count": 7,
   "metadata": {},
   "outputs": [],
   "source": [
    "from src.agents.resume_agent import get_completion"
   ]
  },
  {
   "cell_type": "code",
   "execution_count": 8,
   "metadata": {},
   "outputs": [
    {
     "name": "stdout",
     "output_type": "stream",
     "text": [
      "{'name': 'Frank Enendu', 'title': 'AI & ML Engineer', 'contact': {'email': 'frank.enendu@example.com', 'phone': '+447469499104', 'github': 'https://github.com/frankenendu', 'linkedin': 'https://www.linkedin.com/in/frankenendu/', 'portfolio': 'https://frankenendu.dev', 'medium': 'https://medium.com/@frankenendu'}, 'summary': 'I am very passionate about using technologies to solve real-world problems, and I believe I can bring a lot of value to any team. With my background in AI, data science, machine learning, and data engineering, I have the practical skills and experience to be a good fit. I love learning new technologies and am a very fast learner, which has enabled me to dive into many data engineering, machine learning, and AI technologies. This is truly what I love. I also enjoy working in a team and sharing my knowledge. Additionally, I am not afraid to tackle tough challenges. I look forward to the opportunity to bring my skills and enthusiasm to your organization.', 'technical_skills': {'skills': {'AI Engineering': ['Agentic Workflow', 'RAG', 'Base Model Fine Tuning', 'LangChain Ecosystem', 'AutoGen', 'HuggingFace', 'Streamlit', 'GPT Engineer', 'CrewAI'], 'Programming Languages': ['Python', 'React', 'R', 'SQL'], 'Machine Learning': ['Model Training and Deployment', 'Traditional ML Algorithms', 'Deep Learning (TensorFlow, PyTorch, Scikit-learn, Keras)', 'Natural Language Processing (NLTK, spaCy, LLMs)', 'Computer Vision (OpenCV)'], 'MLOps': ['Pipeline building', 'Orchestration (Docker)', 'CI/CD (Git-Action)', 'Model Versioning and monitoring (MLFlow, Airflow, Kubeflow)'], 'Large Language Model (LLM)': ['OpenAI', 'Llama', 'HuggingFace Transformers'], 'Software Engineering': ['Programming with Python', 'APIs', 'OOP', 'Software Design Patterns', 'Data Structure & Algorithm', 'Unittest', 'Git', 'Logging & Debugging', 'Code Documentation', 'Dependency Management (Conda, Pip)'], 'Data Engineering': ['MySQL', 'Postgres', 'Docker'], 'Product Development': ['Agile PM', 'Software Architecture Design'], 'Cloud Services': ['Azure (Machine Learning, Synapse Analytics, Cognitive Services, AI Services, OpenAI, Fabrics)', 'GCP (BigQuery, Vertex AI)', 'AWS (SageMaker, AWS Glue)'], 'BI Engineering': ['Power BI', 'Tableau', 'DAX', 'Power Query']}}, 'experience': [{'company': 'BCN Group', 'location': 'Manchester, UK', 'position': 'AI/ML Engineer', 'start_date': '08/2023', 'end_date': 'Present', 'responsibilities': ['Built a chat app that interacts with PublicView database (a NHS Benchmarking tool) and uses LLM to generate PDF reports.', 'Single-handedly developed a chat app using Azure Open AI, enabling efficient user interaction with internal knowledge bases.', 'Built and deployed an LSTM Autoencoder-based anomaly detection tool with Azure Synapse Analytics and Power BI, enhancing client data analysis.', \"Fine-tuned Microsoft CLU model for client's email system, improving classification efficiency through Azure Language Understanding API integration.\"]}, {'company': 'HubPay', 'location': 'London, UK', 'position': 'Junior Data Scientist', 'start_date': '12/2021', 'end_date': '01/2023', 'responsibilities': ['Utilized NLTK for sentiment analysis on real-time customer support tickets from Zendesk, creating a sentiment evaluation system to assess support team interactions.', 'Developed a Python script to segment 163,000+ customers by nationality and generate KYC reports, optimizing market targeting.', \"Performed competitive analysis of FOREX brokers' FX spreads using machine learning; developed predictive models aiding the internal team in FX rate setting.\", 'Created a real-time dashboard with R-Shiny for daily performance metrics monitoring, enhancing operational efficiency.']}, {'company': 'Enterprise Development Centre', 'location': 'Lagos, Nigeria', 'position': 'Data & Research Scientist', 'start_date': '04/2021', 'end_date': '09/2022', 'responsibilities': ['Spearheaded the design and development of dashboards using Power BI, providing key actionable insights to business stakeholders.', 'Played a critical role in enhancing BI systems by executing query optimization, scaling, and performance enhancement strategies, resulting in a 25% reduction in system downtime.', 'Provided technical support and training to new BI system users, significantly improving user experience by 30%.']}, {'company': 'Sunnet Systems Ltd', 'location': 'Lagos, Nigeria', 'position': 'Business Analyst Associate', 'start_date': '05/2020', 'end_date': '03/2021', 'responsibilities': [\"Fostered key vendor relationships for a high-value project, representing 35% of the company's annual revenue. Utilized business analytics and data insights to inform decision-making processes.\", \"Led the development and implementation of data-driven reporting and customer relationship management (CRM) systems. This strategic use of data significantly contributed to the company's success.\"]}, {'company': 'Wakanow Ltd', 'location': 'Lagos, Nigeria', 'position': 'Business Intelligence & Product Intern', 'start_date': '04/2019', 'end_date': '04/2020', 'responsibilities': ['Developed interactive dashboards, utilizing Power BI and Tableau, to analyze data across various departments. This data-driven approach resulted in a 25% reduction in employee turnover and a 20% increase in customer satisfaction.']}], 'personal_projects': {'description': 'I am passionate about building personal projects for fun, especially to explore new technologies as well as contributing to open-source initiatives. Visit my Github or my personal portfolio website to see numerous projects I have built over the years. I also maintain a medium page where I delve into the details of each project. In the future, I plan to create video recordings that showcase the implementation process of these projects.'}, 'soft_skills': {'skills': ['Communication: Skilled at explaining complex concepts to diverse audiences.', 'Problem-solving: Creative and analytical thinker, able to devise innovative solutions.', 'Teamwork: Reliable team player, adept at collaboration and conflict resolution.', 'Organisational Skills: Excellent at managing tasks, prioritizing effectively, and meeting deadlines.']}, 'education': [{'institution': 'University of Liverpool, UK', 'degree': 'MSc, Data Science and Artificial Intelligence', 'start_date': '09/2022', 'end_date': '09/2023', 'modules': ['Applied Artificial Intelligence', 'Maths and Statistics for AI and Data Science', 'Computational Intelligence', 'Data Mining and Visualisation', 'Machine Learning and Bio-Inspired Optimisation', 'Programming Fundamentals', 'Database and Information Systems']}, {'institution': 'Federal University of Technology Owerri, Nigeria', 'degree': 'BTech, Logistics Management', 'start_date': '09/2013', 'end_date': '08/2018', 'modules': ['Ordinary Differential Equation', 'Applied Statistics', 'Mathematical Methods', 'Operations Research']}]}\n"
     ]
    }
   ],
   "source": [
    "result = get_completion(resume_content, job_description)\n",
    "print(result)"
   ]
  },
  {
   "cell_type": "code",
   "execution_count": 9,
   "metadata": {},
   "outputs": [
    {
     "data": {
      "text/plain": [
       "dict"
      ]
     },
     "execution_count": 9,
     "metadata": {},
     "output_type": "execute_result"
    }
   ],
   "source": [
    "type(result)"
   ]
  }
 ],
 "metadata": {
  "kernelspec": {
   "display_name": ".venv",
   "language": "python",
   "name": "python3"
  },
  "language_info": {
   "codemirror_mode": {
    "name": "ipython",
    "version": 3
   },
   "file_extension": ".py",
   "mimetype": "text/x-python",
   "name": "python",
   "nbconvert_exporter": "python",
   "pygments_lexer": "ipython3",
   "version": "3.13.1"
  }
 },
 "nbformat": 4,
 "nbformat_minor": 2
}
